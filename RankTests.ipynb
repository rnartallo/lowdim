{
 "cells": [
  {
   "cell_type": "code",
   "execution_count": 1,
   "id": "04dd09e2-ca58-4ce4-81ae-c0433bbc303d",
   "metadata": {},
   "outputs": [],
   "source": [
    "import numpy as np\n",
    "import seaborn as sns\n",
    "import matplotlib.pyplot as plt\n",
    "import pandas as pd\n",
    "import scipy as sp\n",
    "import networkx as nx"
   ]
  },
  {
   "cell_type": "code",
   "execution_count": 2,
   "id": "e7f3b1f8-7e02-454e-881d-c17a7b99e927",
   "metadata": {},
   "outputs": [],
   "source": [
    "def ODE(x,t,A,f,g,params):\n",
    "    N = x.shape[0]\n",
    "    dXdt = np.zeros(N)\n",
    "    for n in range(0,N):\n",
    "        dXdt[n] = f(x[n],params[:,n])\n",
    "        for j in range(0,N):\n",
    "            dXdt[n] += A[n,j]*g(x[n],x[j])\n",
    "    return dXdt"
   ]
  },
  {
   "cell_type": "code",
   "execution_count": 38,
   "id": "f50c0968-31e9-4be1-8ef6-76f27835b14c",
   "metadata": {},
   "outputs": [],
   "source": [
    "def LV():\n",
    "    def f(x,param):\n",
    "        a = param[0]\n",
    "        b = param[1]\n",
    "        return x*(a-b*x)\n",
    "    def g(x,y):\n",
    "        return(-x*y)\n",
    "    return f,g\n",
    "\n",
    "def MP():\n",
    "    def f(x,param):\n",
    "        a = param[0]\n",
    "        b = param[1]\n",
    "        return x*(a-b*x)\n",
    "    def g(x,y):\n",
    "        return(x*(y**2)*((1+x**2)**(-1)))\n",
    "    return f,g\n",
    "\n",
    "def MM():\n",
    "    def f(x,param):\n",
    "        return -x\n",
    "    def g(x,y):\n",
    "        return (y**2)/(1+y**2)\n",
    "    return f,g\n",
    "\n",
    "def SIS():\n",
    "    def f(x,param):\n",
    "        return -param[0]*x\n",
    "    def g(x,y):\n",
    "        return (1-x)*y\n",
    "    return f,g\n",
    "\n",
    "def KUR():\n",
    "    def f(x,param):\n",
    "        return param[0]\n",
    "    def g(x,y):\n",
    "        return np.sin(y-x)\n",
    "    return f,g\n",
    "\n",
    "\n",
    "def WC():\n",
    "    def f(x,param):\n",
    "        return -x\n",
    "    def g(x,y):\n",
    "        return 1/(1+np.exp(-(y-1)))\n",
    "    return f,g\n",
    "\n",
    "def weighted_ba_graph(W):\n",
    "    N = W.shape[0]\n",
    "    A = np.zeros((N,N))\n",
    "    for n in range(0,N):\n",
    "        for m in range(0,N):\n",
    "            if W[n,m]==1:\n",
    "                A[n,m] = np.random.uniform(low=-1,high=1)\n",
    "    return(A)\n",
    "\n",
    "def derivative_approx(x,dt):\n",
    "    dx = np.zeros(x.shape)\n",
    "    for i in range(0,x.shape[1]):\n",
    "        for t in range(0,x.shape[0]-1):\n",
    "            dx[t,i] = (x[t+1,i]-x[t,i])*(1/dt)\n",
    "    return(dx)"
   ]
  },
  {
   "cell_type": "code",
   "execution_count": 30,
   "id": "36e7f845-8846-42bd-a04b-cd9d93bb0c4b",
   "metadata": {},
   "outputs": [],
   "source": [
    "N = 50\n",
    "def initialise(N):\n",
    "    a = np.random.uniform(0.5,1.5,N)\n",
    "    b = np.random.uniform(0.5,1.5,N)\n",
    "    LV_params = np.zeros((2,N))\n",
    "    LV_params[0,:] = a\n",
    "    LV_params[1,:] = b\n",
    "    MP_params = np.zeros((2,N))\n",
    "    MP_params[0,:] = a\n",
    "    MP_params[1,:] = b\n",
    "\n",
    "    MM_params = np.zeros((1,N))\n",
    "\n",
    "    SIS_params = np.random.uniform(0.5,1.5,N).reshape(1,N)\n",
    "    WC_params = np.zeros((1,N))\n",
    "    KUR_params = np.random.uniform(0.5,1.5,N).reshape(1,N)\n",
    "\n",
    "    x0 = np.random.uniform(0,1,N)\n",
    "    LV_IC = x0\n",
    "    MP_IC = x0\n",
    "    MM_IC = np.random.uniform(0,2,N)\n",
    "    SIS_IC = np.random.uniform(0,0.1,N)\n",
    "    WC_IC = np.random.uniform(0,10,N)\n",
    "    KUR_IC = np.random.uniform(0,2*np.pi,N)\n",
    "\n",
    "    \n",
    "    return()"
   ]
  },
  {
   "cell_type": "code",
   "execution_count": 13,
   "id": "cffc3de3-3350-4aa9-97c3-84afbd2f9bf1",
   "metadata": {},
   "outputs": [],
   "source": [
    "g = nx.barabasi_albert_graph(N,1)\n",
    "W = nx.to_numpy_array(g)\n",
    "A = weighted_ba_graph(W)"
   ]
  },
  {
   "cell_type": "code",
   "execution_count": 12,
   "id": "f3e10709-3bf2-4a72-bae0-ead52efebe37",
   "metadata": {},
   "outputs": [],
   "source": [
    "#x0 = np.random.uniform(0,1,N)\n",
    "T = 5\n",
    "dt = 0.01\n",
    "nT = int(T/dt) \n",
    "t = np.linspace(0,T,nT)"
   ]
  },
  {
   "cell_type": "code",
   "execution_count": 14,
   "id": "4b0be4ac-d80d-422c-919e-78b9ec942c60",
   "metadata": {},
   "outputs": [],
   "source": [
    "f,g = LV()\n",
    "x = sp.integrate.odeint(ODE,LV_IC,t,args=(A,f,g,LV_params,))\n",
    "dx = derivative_approx(x,dt)\n",
    "Y = dx-f(x,LV_params)"
   ]
  },
  {
   "cell_type": "code",
   "execution_count": 21,
   "id": "b9533749-0689-430a-a9fb-105cf38a85a8",
   "metadata": {},
   "outputs": [
    {
     "name": "stdout",
     "output_type": "stream",
     "text": [
      "34.0\n"
     ]
    }
   ],
   "source": [
    "ranks = []\n",
    "for i in range(0,N):\n",
    "    Y_i = Y[:,i]\n",
    "    G_i = np.zeros((nT,N))\n",
    "    for k in range(0,nT):\n",
    "        for j in range(0,N):\n",
    "            G_i[k,j] = g(x[k,i],x[k,j])\n",
    "    ranks.append(np.linalg.matrix_rank(G_i))\n",
    "print(np.median(ranks))"
   ]
  },
  {
   "cell_type": "markdown",
   "id": "94d0d219-3ac4-4a33-927e-81da06e5c56f",
   "metadata": {},
   "source": [
    "# Varying network size:"
   ]
  },
  {
   "cell_type": "code",
   "execution_count": 39,
   "id": "c41dd99b-6a66-4e5d-9113-0ffedad32c62",
   "metadata": {},
   "outputs": [
    {
     "name": "stdout",
     "output_type": "stream",
     "text": [
      "N20\n",
      "0\n",
      "N30\n",
      "0\n"
     ]
    },
    {
     "name": "stderr",
     "output_type": "stream",
     "text": [
      "/var/folders/j3/3jf2wkbj5756yfdv4zjq5j300000gn/T/ipykernel_11529/1078122567.py:43: ODEintWarning: Excess work done on this call (perhaps wrong Dfun type). Run with full_output = 1 to get quantitative information.\n",
      "  x = sp.integrate.odeint(ODE,models_IC[idx],t,args=(A,f,g,models_params[idx],))\n"
     ]
    },
    {
     "name": "stdout",
     "output_type": "stream",
     "text": [
      "N40\n",
      "0\n",
      "N50\n",
      "0\n",
      "N60\n",
      "0\n",
      "N70\n",
      "0\n",
      "N80\n",
      "0\n",
      "N90\n",
      "0\n",
      "N100\n",
      "0\n",
      "N110\n",
      "0\n",
      "N120\n",
      "0\n",
      "N130\n",
      "0\n",
      "N140\n",
      "0\n",
      "N150\n",
      "0\n",
      "N160\n",
      "0\n",
      "N170\n",
      "0\n",
      "N180\n",
      "0\n",
      "N190\n",
      "0\n"
     ]
    }
   ],
   "source": [
    "models_names = ['LV','MP','MM','SIS','WC','KUR']\n",
    "ranks = [[],[],[],[],[],[]]\n",
    "\n",
    "\n",
    "for N in range(20,420,20):\n",
    "    print('N' + str(N))\n",
    "    for trial in range(0,100):\n",
    "        if np.mod(trial,10)==0:\n",
    "            print(trial)\n",
    "        g = nx.barabasi_albert_graph(N,1)\n",
    "        W = nx.to_numpy_array(g)\n",
    "        A = weighted_ba_graph(W)\n",
    "        \n",
    "        a = np.random.uniform(0.5,1.5,N)\n",
    "        b = np.random.uniform(0.5,1.5,N)\n",
    "        LV_params = np.zeros((2,N))\n",
    "        LV_params[0,:] = a\n",
    "        LV_params[1,:] = b\n",
    "        MP_params = np.zeros((2,N))\n",
    "        MP_params[0,:] = a\n",
    "        MP_params[1,:] = b\n",
    "    \n",
    "        MM_params = np.zeros((1,N))\n",
    "    \n",
    "        SIS_params = np.random.uniform(0.5,1.5,N).reshape(1,N)\n",
    "        WC_params = np.zeros((1,N))\n",
    "        KUR_params = np.random.uniform(0.5,1.5,N).reshape(1,N)\n",
    "    \n",
    "        x0 = np.random.uniform(0,1,N)\n",
    "        LV_IC = x0\n",
    "        MP_IC = x0\n",
    "        MM_IC = np.random.uniform(0,2,N)\n",
    "        SIS_IC = np.random.uniform(0,0.1,N)\n",
    "        WC_IC = np.random.uniform(0,10,N)\n",
    "        KUR_IC = np.random.uniform(0,2*np.pi,N)\n",
    "\n",
    "        models = [LV,MP,MM,SIS,WC,KUR]\n",
    "        models_params = [LV_params,MP_params,MM_params,SIS_params,WC_params,KUR_params]\n",
    "        models_IC = [LV_IC,MP_IC,MM_IC,SIS_IC,WC_IC,KUR_IC]\n",
    "        \n",
    "        for idx,model in enumerate(models):\n",
    "            f,g = model()\n",
    "            x = sp.integrate.odeint(ODE,models_IC[idx],t,args=(A,f,g,models_params[idx],))\n",
    "            dx = derivative_approx(x,dt)\n",
    "            Y = dx-f(x,LV_params)\n",
    "            r =[]\n",
    "            for i in range(0,N):\n",
    "                Y_i = Y[:,i]\n",
    "                G_i = np.zeros((nT,N))\n",
    "                for k in range(0,nT):\n",
    "                    for j in range(0,N):\n",
    "                        G_i[k,j] = g(x[k,i],x[k,j])\n",
    "                r.append(np.linalg.matrix_rank(G_i))\n",
    "            ranks[idx].append(np.median(r))\n",
    "np.savetxt(\"ranksNvary.csv\", ranks, delimiter=\",\")"
   ]
  },
  {
   "cell_type": "code",
   "execution_count": 41,
   "id": "48775395-6b89-4290-a3c1-3af0213901ac",
   "metadata": {},
   "outputs": [
    {
     "data": {
      "text/plain": [
       "[np.float64(20.0),\n",
       " np.float64(20.0),\n",
       " np.float64(6.0),\n",
       " np.float64(32.0),\n",
       " np.float64(41.0),\n",
       " np.float64(42.0),\n",
       " np.float64(43.0),\n",
       " np.float64(54.0),\n",
       " np.float64(81.0),\n",
       " np.float64(67.0),\n",
       " np.float64(31.5),\n",
       " np.float64(16.5),\n",
       " np.float64(128.0),\n",
       " np.float64(54.0),\n",
       " np.float64(55.5),\n",
       " np.float64(55.0),\n",
       " np.float64(124.0),\n",
       " np.float64(15.5)]"
      ]
     },
     "execution_count": 41,
     "metadata": {},
     "output_type": "execute_result"
    }
   ],
   "source": [
    "ranks[0]"
   ]
  },
  {
   "cell_type": "code",
   "execution_count": 55,
   "id": "096ba0c0-d4ef-4991-8e61-d216319c9ae3",
   "metadata": {},
   "outputs": [
    {
     "data": {
      "text/plain": [
       "[<matplotlib.lines.Line2D at 0x12e912190>]"
      ]
     },
     "execution_count": 55,
     "metadata": {},
     "output_type": "execute_result"
    },
    {
     "data": {
      "image/png": "[encoded data removed]",
      "text/plain": [
       "<Figure size 640x480 with 1 Axes>"
      ]
     },
     "metadata": {},
     "output_type": "display_data"
    }
   ],
   "source": [
    "plt.plot(ranks[0])"
   ]
  },
  {
   "cell_type": "code",
   "execution_count": 80,
   "id": "167d7fac-90bd-4123-934a-10223082db70",
   "metadata": {},
   "outputs": [],
   "source": [
    "n_range = [n for n in range(20,420,20)]"
   ]
  },
  {
   "cell_type": "code",
   "execution_count": 70,
   "id": "34fc9b55-2c2b-4d5c-8b43-279093cbaaaf",
   "metadata": {},
   "outputs": [
    {
     "data": {
      "text/plain": [
       "[<matplotlib.lines.Line2D at 0x12ecb9610>]"
      ]
     },
     "execution_count": 70,
     "metadata": {},
     "output_type": "execute_result"
    },
    {
     "data": {
      "image/png": "[encoded data removed]",
      "text/plain": [
       "<Figure size 640x480 with 1 Axes>"
      ]
     },
     "metadata": {},
     "output_type": "display_data"
    }
   ],
   "source": [
    "plt.plot(np.array(ranks[5])/np.array(n_range))"
   ]
  },
  {
   "cell_type": "code",
   "execution_count": 81,
   "id": "91a9bcbb-71fd-424e-ac22-b7b752233968",
   "metadata": {},
   "outputs": [
    {
     "data": {
      "text/plain": [
       "[20,\n",
       " 40,\n",
       " 60,\n",
       " 80,\n",
       " 100,\n",
       " 120,\n",
       " 140,\n",
       " 160,\n",
       " 180,\n",
       " 200,\n",
       " 220,\n",
       " 240,\n",
       " 260,\n",
       " 280,\n",
       " 300,\n",
       " 320,\n",
       " 340,\n",
       " 360,\n",
       " 380,\n",
       " 400]"
      ]
     },
     "execution_count": 81,
     "metadata": {},
     "output_type": "execute_result"
    }
   ],
   "source": [
    "n_range"
   ]
  },
  {
   "cell_type": "raw",
   "id": "c6783a68-b4f1-48c1-9cf6-83aa21c81833",
   "metadata": {},
   "source": []
  }
 ],
 "metadata": {
  "kernelspec": {
   "display_name": "Python 3 (ipykernel)",
   "language": "python",
   "name": "python3"
  },
  "language_info": {
   "codemirror_mode": {
    "name": "ipython",
    "version": 3
   },
   "file_extension": ".py",
   "mimetype": "text/x-python",
   "name": "python",
   "nbconvert_exporter": "python",
   "pygments_lexer": "ipython3",
   "version": "3.9.6"
  }
 },
 "nbformat": 4,
 "nbformat_minor": 5
}
